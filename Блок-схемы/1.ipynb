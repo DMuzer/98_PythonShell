{
 "cells": [
  {
   "cell_type": "code",
   "execution_count": 1,
   "metadata": {},
   "outputs": [],
   "source": [
    "from shapely.geometry import *"
   ]
  },
  {
   "cell_type": "code",
   "execution_count": 3,
   "metadata": {},
   "outputs": [
    {
     "data": {
      "image/svg+xml": "<svg xmlns=\"http://www.w3.org/2000/svg\" xmlns:xlink=\"http://www.w3.org/1999/xlink\" width=\"100.0\" height=\"100.0\" viewBox=\"-0.4 -0.4 10.8 10.8\" preserveAspectRatio=\"xMinYMin meet\"><g transform=\"matrix(1,0,0,-1,0,10.0)\"><path fill-rule=\"evenodd\" fill=\"#66cc99\" stroke=\"#555555\" stroke-width=\"0.21600000000000003\" opacity=\"0.6\" d=\"M 0.0,0.0 L 0.0,10.0 L 10.0,10.0 L 10.0,0.0 L 0.0,0.0 z\" /></g></svg>",
      "text/plain": [
       "<shapely.geometry.polygon.Polygon at 0x1a39bc3b430>"
      ]
     },
     "execution_count": 3,
     "metadata": {},
     "output_type": "execute_result"
    }
   ],
   "source": [
    "pg = Polygon([(0,0), (0, 10), (10, 10), (10,0)])\n",
    "pg"
   ]
  },
  {
   "cell_type": "code",
   "execution_count": 3,
   "metadata": {},
   "outputs": [
    {
     "name": "stderr",
     "output_type": "stream",
     "text": [
      "C:\\Users\\AACE~1\\AppData\\Local\\Temp/ipykernel_1244/160489614.py:6: DeprecationWarning: The module was found, but not in a referenced namespace.\n",
      "Implicit loading is deprecated. Please use clr.AddReference('System.Drawing').\n",
      "  from System.Drawing import Point\n"
     ]
    }
   ],
   "source": [
    "#!pip install pythonnet\n",
    "\n",
    "import clr\n",
    "import System\n",
    "\n",
    "from System.Drawing import Point"
   ]
  },
  {
   "cell_type": "code",
   "execution_count": 22,
   "metadata": {},
   "outputs": [],
   "source": [
    "import clr\n",
    "clr.AddReference(r\"C:\\Program Files\\Autodesk\\Revit 2021\\RevitAPI.dll\")\n",
    "import System\n",
    "import math\n",
    "\n",
    "from Autodesk.Revit import *\n",
    "from Autodesk.Revit.DB import *\n",
    "from contextlib import contextmanager\n",
    "import math, sys\n",
    "\n",
    "import System\n",
    "from System.Collections.Generic import IList, List\n",
    "# from dm_connect_pipe import get_nearest_end_connector\n",
    "\n",
    "\n",
    "\n",
    "clr.AddReference(r\"C:\\Users\\Дмитрий\\NetTopologySuite.2.4.0\\lib\\netstandard2.0\\NetTopologySuite.dll\")\n",
    "clr.AddReference(r\"C:\\Program Files\\Autodesk\\Revit 2021\\RevitAPIIFC.dll\")\n",
    "import NetTopologySuite as nts\n",
    "import NetTopologySuite.Geometries as nts_geom\n",
    "from Autodesk.Revit.DB import IFC as ifc\n"
   ]
  },
  {
   "cell_type": "code",
   "execution_count": 39,
   "metadata": {},
   "outputs": [
    {
     "ename": "AttributeError",
     "evalue": "module 'clr' has no attribute 'AddReferenceByPartialName'",
     "output_type": "error",
     "traceback": [
      "\u001b[1;31m---------------------------------------------------------------------------\u001b[0m",
      "\u001b[1;31mAttributeError\u001b[0m                            Traceback (most recent call last)",
      "\u001b[1;32mC:\\Users\\AACE~1\\AppData\\Local\\Temp/ipykernel_1244/4251525561.py\u001b[0m in \u001b[0;36m<module>\u001b[1;34m\u001b[0m\n\u001b[0;32m      1\u001b[0m \u001b[1;32mimport\u001b[0m \u001b[0mclr\u001b[0m\u001b[1;33m\u001b[0m\u001b[1;33m\u001b[0m\u001b[0m\n\u001b[0;32m      2\u001b[0m \u001b[1;33m\u001b[0m\u001b[0m\n\u001b[1;32m----> 3\u001b[1;33m \u001b[0mclr\u001b[0m\u001b[1;33m.\u001b[0m\u001b[0mAddReferenceByPartialName\u001b[0m\u001b[1;33m(\u001b[0m\u001b[1;34m\"PresentationCore\"\u001b[0m\u001b[1;33m)\u001b[0m\u001b[1;33m\u001b[0m\u001b[1;33m\u001b[0m\u001b[0m\n\u001b[0m\u001b[0;32m      4\u001b[0m \u001b[0mclr\u001b[0m\u001b[1;33m.\u001b[0m\u001b[0mAddReferenceByPartialName\u001b[0m\u001b[1;33m(\u001b[0m\u001b[1;34m\"PresentationFramework\"\u001b[0m\u001b[1;33m)\u001b[0m\u001b[1;33m\u001b[0m\u001b[1;33m\u001b[0m\u001b[0m\n\u001b[0;32m      5\u001b[0m \u001b[0mclr\u001b[0m\u001b[1;33m.\u001b[0m\u001b[0mAddReference\u001b[0m\u001b[1;33m(\u001b[0m\u001b[1;34m\"wpf.dll\"\u001b[0m\u001b[1;33m)\u001b[0m\u001b[1;33m\u001b[0m\u001b[1;33m\u001b[0m\u001b[0m\n",
      "\u001b[1;31mAttributeError\u001b[0m: module 'clr' has no attribute 'AddReferenceByPartialName'"
     ]
    }
   ],
   "source": [
    "import clr\n",
    " \n",
    "clr.AddReferenceByPartialName(\"PresentationCore\")\n",
    "clr.AddReferenceByPartialName(\"PresentationFramework\")\n",
    "clr.AddReference(\"wpf.dll\")\n",
    "import wpf\n",
    "\n",
    "from System.Windows import Application, Window\n",
    "from AboutWindow import *\n",
    "\n",
    "class MyWindow(Window):\n",
    "    def __init__(self):\n",
    "        wpf.LoadComponent(self, r\"D:\\18_проектирование\\89_WPF\\MainWindow1.xaml\")\n",
    "\n",
    "    def MenuItem_Click(self, sender, e):   \n",
    "        form = AboutWindow()\n",
    "        form.Show()        \n",
    "\n",
    "if __name__ == '__main__':\n",
    "    Application().Run(MyWindow())\n"
   ]
  },
  {
   "cell_type": "code",
   "execution_count": 28,
   "metadata": {},
   "outputs": [
    {
     "data": {
      "text/plain": [
       "['__class__',\n",
       " '__delattr__',\n",
       " '__delete__',\n",
       " '__dir__',\n",
       " '__doc__',\n",
       " '__eq__',\n",
       " '__file__',\n",
       " '__format__',\n",
       " '__ge__',\n",
       " '__getattribute__',\n",
       " '__gt__',\n",
       " '__hash__',\n",
       " '__init__',\n",
       " '__init_subclass__',\n",
       " '__le__',\n",
       " '__lt__',\n",
       " '__module__',\n",
       " '__name__',\n",
       " '__ne__',\n",
       " '__new__',\n",
       " '__reduce__',\n",
       " '__reduce_ex__',\n",
       " '__repr__',\n",
       " '__set__',\n",
       " '__setattr__',\n",
       " '__sizeof__',\n",
       " '__str__',\n",
       " '__subclasshook__']"
      ]
     },
     "execution_count": 28,
     "metadata": {},
     "output_type": "execute_result"
    }
   ],
   "source": [
    "dir(System.Windows)"
   ]
  },
  {
   "cell_type": "code",
   "execution_count": 21,
   "metadata": {},
   "outputs": [
    {
     "data": {
      "text/plain": [
       "'POLYGON ((0 0, 0 10, 10 10, 10 0, 0 0))'"
      ]
     },
     "execution_count": 21,
     "metadata": {},
     "output_type": "execute_result"
    }
   ],
   "source": [
    "crds = [(0.,0.), (0., 10.), (10., 10.), (10.,0.), (0.,0.)]\n",
    "crds = System.Array[nts_geom.Coordinate]([nts_geom.Coordinate(*p) for p in crds])\n",
    "lr = nts_geom.LinearRing(crds)\n",
    "pg = nts_geom.Polygon(lr)\n",
    "pg.ToString()"
   ]
  },
  {
   "cell_type": "code",
   "execution_count": 20,
   "metadata": {},
   "outputs": [
    {
     "data": {
      "text/plain": [
       "'(10, 10)'"
      ]
     },
     "execution_count": 20,
     "metadata": {},
     "output_type": "execute_result"
    }
   ],
   "source": [
    "crd1 = nts_geom.Coordinate(10., 10.)\n",
    "crd1.ToString()"
   ]
  },
  {
   "cell_type": "code",
   "execution_count": 35,
   "metadata": {},
   "outputs": [
    {
     "ename": "",
     "evalue": "",
     "output_type": "error",
     "traceback": [
      "При выполнении кода в текущей ячейке или предыдущей ячейке ядро аварийно завершило работу. Проверьте код в ячейках, чтобы определить возможную причину сбоя. Щелкните <a href=\"https://aka.ms/vscodeJupyterKernelCrash\">здесь</a> для получения дополнительных сведений. Подробнее см. в <a href='command:jupyter.viewOutput'>журнале Jupyter</a>."
     ]
    }
   ],
   "source": [
    "clr.AddReference(\"System.Windows.Forms\")\n",
    "from System.Windows.Forms import Form \n",
    "\n",
    "f = Form()\n",
    "\n",
    "f.Show()"
   ]
  }
 ],
 "metadata": {
  "kernelspec": {
   "display_name": "Python 3.8.5 ('base')",
   "language": "python",
   "name": "python3"
  },
  "language_info": {
   "codemirror_mode": {
    "name": "ipython",
    "version": 3
   },
   "file_extension": ".py",
   "mimetype": "text/x-python",
   "name": "python",
   "nbconvert_exporter": "python",
   "pygments_lexer": "ipython3",
   "version": "3.8.5"
  },
  "orig_nbformat": 4,
  "vscode": {
   "interpreter": {
    "hash": "7eaf19b248fb632f60462f4259de56b0149d6a5aae8e26265fa4c03168ece137"
   }
  }
 },
 "nbformat": 4,
 "nbformat_minor": 2
}
